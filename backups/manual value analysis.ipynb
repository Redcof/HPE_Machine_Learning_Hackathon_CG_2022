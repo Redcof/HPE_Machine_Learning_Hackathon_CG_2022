{
 "cells": [
  {
   "cell_type": "code",
   "execution_count": null,
   "metadata": {
    "id": "0HS9SwdBA2SR"
   },
   "outputs": [],
   "source": [
    "!wget https://www.techgig.com/files/DataScienceData/344575/Phising_Training_Dataset.csv\n",
    "!wget https://www.techgig.com/files/DataScienceData/344575/Phising_Testing_Dataset.csv\n",
    "!wget https://www.techgig.com/files/DataScienceData/344575/sample_submission.csv"
   ]
  },
  {
   "cell_type": "code",
   "execution_count": 1,
   "metadata": {
    "id": "DHZAWspWBEiL"
   },
   "outputs": [],
   "source": [
    "import pandas as pd\n",
    "import numpy as np\n",
    "import matplotlib.pyplot as plt\n",
    "# !pip install sweetviz\n",
    "import sweetviz as eda\n",
    "import seaborn as sns"
   ]
  },
  {
   "cell_type": "code",
   "execution_count": 2,
   "metadata": {
    "id": "czZXuE_dBGYm"
   },
   "outputs": [],
   "source": [
    "from sklearn.model_selection import cross_val_score\n",
    "from sklearn.tree import DecisionTreeClassifier\n",
    "from sklearn.model_selection import GridSearchCV\n",
    "\n",
    "# set pandas options\n",
    "pd.set_option(\"display.max_colwidth\", None)\n",
    "pd.set_option(\"display.max_columns\", None)\n",
    "\n",
    "# /content/drive/MyDrive/TechGig_HPE_ML_2022\n",
    "root = \"/content/drive/MyDrive/TechGig_HPE_ML_2022/%s\"\n",
    "root = \"./%s\"\n",
    "\n",
    "from joblib import dump, load"
   ]
  },
  {
   "cell_type": "code",
   "execution_count": 3,
   "metadata": {
    "id": "y-gseLfHBIrU"
   },
   "outputs": [],
   "source": [
    "# read the data\n",
    "train = pd.read_csv(\"./Phising_Training_Dataset.csv\")\n",
    "testdf = pd.read_csv(\"./Phising_Testing_Dataset.csv\")"
   ]
  },
  {
   "cell_type": "code",
   "execution_count": 4,
   "metadata": {
    "id": "tGi3q6PRBKsN"
   },
   "outputs": [],
   "source": [
    "train_unik = train.drop_duplicates()"
   ]
  },
  {
   "cell_type": "code",
   "execution_count": 5,
   "metadata": {
    "id": "oObmPlNwBP_e"
   },
   "outputs": [],
   "source": [
    "train_unik.drop(columns=[\"key\", \"Result\"], inplace=True)"
   ]
  },
  {
   "cell_type": "code",
   "execution_count": 6,
   "metadata": {
    "id": "tTSQdJKwBaix"
   },
   "outputs": [],
   "source": [
    "test = testdf.drop(columns=[\"key\"])"
   ]
  },
  {
   "cell_type": "code",
   "execution_count": 7,
   "metadata": {
    "id": "TiISelCvCxUM"
   },
   "outputs": [
    {
     "name": "stdout",
     "output_type": "stream",
     "text": [
      "<class 'pandas.core.frame.DataFrame'>\n",
      "Int64Index: 8955 entries, 0 to 8954\n",
      "Data columns (total 30 columns):\n",
      " #   Column                       Non-Null Count  Dtype\n",
      "---  ------                       --------------  -----\n",
      " 0   having_IP                    8955 non-null   int64\n",
      " 1   URL_Length                   8955 non-null   int64\n",
      " 2   Shortining_Service           8955 non-null   int64\n",
      " 3   having_At_Symbol             8955 non-null   int64\n",
      " 4   double_slash_redirecting     8955 non-null   int64\n",
      " 5   Prefix_Suffix                8955 non-null   int64\n",
      " 6   having_Sub_Domain            8955 non-null   int64\n",
      " 7   SSLfinal_State               8955 non-null   int64\n",
      " 8   Domain_registeration_length  8955 non-null   int64\n",
      " 9   Favicon                      8955 non-null   int64\n",
      " 10  port                         8955 non-null   int64\n",
      " 11  HTTPS_token                  8955 non-null   int64\n",
      " 12  Request_URL                  8955 non-null   int64\n",
      " 13  URL_of_Anchor                8955 non-null   int64\n",
      " 14  Links_in_tags                8955 non-null   int64\n",
      " 15  SFH                          8955 non-null   int64\n",
      " 16  Submitting_to_email          8955 non-null   int64\n",
      " 17  Abnormal_URL                 8955 non-null   int64\n",
      " 18  Redirect                     8955 non-null   int64\n",
      " 19  on_mouseover                 8955 non-null   int64\n",
      " 20  RightClick                   8955 non-null   int64\n",
      " 21  popUpWidnow                  8955 non-null   int64\n",
      " 22  Iframe                       8955 non-null   int64\n",
      " 23  age_of_domain                8955 non-null   int64\n",
      " 24  DNSRecord                    8955 non-null   int64\n",
      " 25  web_traffic                  8955 non-null   int64\n",
      " 26  Page_Rank                    8955 non-null   int64\n",
      " 27  Google_Index                 8955 non-null   int64\n",
      " 28  Links_pointing_to_page       8955 non-null   int64\n",
      " 29  Statistical_report           8955 non-null   int64\n",
      "dtypes: int64(30)\n",
      "memory usage: 2.1 MB\n"
     ]
    }
   ],
   "source": [
    "train_unik.info()"
   ]
  },
  {
   "cell_type": "code",
   "execution_count": 8,
   "metadata": {
    "id": "Hr-iceAiCz-v"
   },
   "outputs": [
    {
     "name": "stdout",
     "output_type": "stream",
     "text": [
      "<class 'pandas.core.frame.DataFrame'>\n",
      "RangeIndex: 2100 entries, 0 to 2099\n",
      "Data columns (total 30 columns):\n",
      " #   Column                       Non-Null Count  Dtype\n",
      "---  ------                       --------------  -----\n",
      " 0   having_IP                    2100 non-null   int64\n",
      " 1   URL_Length                   2100 non-null   int64\n",
      " 2   Shortining_Service           2100 non-null   int64\n",
      " 3   having_At_Symbol             2100 non-null   int64\n",
      " 4   double_slash_redirecting     2100 non-null   int64\n",
      " 5   Prefix_Suffix                2100 non-null   int64\n",
      " 6   having_Sub_Domain            2100 non-null   int64\n",
      " 7   SSLfinal_State               2100 non-null   int64\n",
      " 8   Domain_registeration_length  2100 non-null   int64\n",
      " 9   Favicon                      2100 non-null   int64\n",
      " 10  port                         2100 non-null   int64\n",
      " 11  HTTPS_token                  2100 non-null   int64\n",
      " 12  Request_URL                  2100 non-null   int64\n",
      " 13  URL_of_Anchor                2100 non-null   int64\n",
      " 14  Links_in_tags                2100 non-null   int64\n",
      " 15  SFH                          2100 non-null   int64\n",
      " 16  Submitting_to_email          2100 non-null   int64\n",
      " 17  Abnormal_URL                 2100 non-null   int64\n",
      " 18  Redirect                     2100 non-null   int64\n",
      " 19  on_mouseover                 2100 non-null   int64\n",
      " 20  RightClick                   2100 non-null   int64\n",
      " 21  popUpWidnow                  2100 non-null   int64\n",
      " 22  Iframe                       2100 non-null   int64\n",
      " 23  age_of_domain                2100 non-null   int64\n",
      " 24  DNSRecord                    2100 non-null   int64\n",
      " 25  web_traffic                  2100 non-null   int64\n",
      " 26  Page_Rank                    2100 non-null   int64\n",
      " 27  Google_Index                 2100 non-null   int64\n",
      " 28  Links_pointing_to_page       2100 non-null   int64\n",
      " 29  Statistical_report           2100 non-null   int64\n",
      "dtypes: int64(30)\n",
      "memory usage: 492.3 KB\n"
     ]
    }
   ],
   "source": [
    "test.info()"
   ]
  },
  {
   "cell_type": "code",
   "execution_count": 9,
   "metadata": {
    "id": "HuJ1O2ITDT_V"
   },
   "outputs": [
    {
     "data": {
      "text/plain": [
       "(array(['having_IP', 'URL_Length', 'Shortining_Service',\n",
       "        'having_At_Symbol', 'double_slash_redirecting', 'Prefix_Suffix',\n",
       "        'having_Sub_Domain', 'SSLfinal_State',\n",
       "        'Domain_registeration_length', 'Favicon', 'port', 'HTTPS_token',\n",
       "        'Request_URL', 'URL_of_Anchor', 'Links_in_tags', 'SFH',\n",
       "        'Submitting_to_email', 'Abnormal_URL', 'Redirect', 'on_mouseover',\n",
       "        'RightClick', 'popUpWidnow', 'Iframe', 'age_of_domain',\n",
       "        'DNSRecord', 'web_traffic', 'Page_Rank', 'Google_Index',\n",
       "        'Links_pointing_to_page', 'Statistical_report'], dtype=object),\n",
       " array(['having_IP', 'URL_Length', 'Shortining_Service',\n",
       "        'having_At_Symbol', 'double_slash_redirecting', 'Prefix_Suffix',\n",
       "        'having_Sub_Domain', 'SSLfinal_State',\n",
       "        'Domain_registeration_length', 'Favicon', 'port', 'HTTPS_token',\n",
       "        'Request_URL', 'URL_of_Anchor', 'Links_in_tags', 'SFH',\n",
       "        'Submitting_to_email', 'Abnormal_URL', 'Redirect', 'on_mouseover',\n",
       "        'RightClick', 'popUpWidnow', 'Iframe', 'age_of_domain',\n",
       "        'DNSRecord', 'web_traffic', 'Page_Rank', 'Google_Index',\n",
       "        'Links_pointing_to_page', 'Statistical_report'], dtype=object))"
      ]
     },
     "execution_count": 9,
     "metadata": {},
     "output_type": "execute_result"
    }
   ],
   "source": [
    "test.columns.values, train_unik.columns.values"
   ]
  },
  {
   "cell_type": "code",
   "execution_count": 10,
   "metadata": {
    "id": "cj3fiHr3D7Tq"
   },
   "outputs": [
    {
     "data": {
      "text/plain": [
       "('Not found', 653)"
      ]
     },
     "execution_count": 10,
     "metadata": {},
     "output_type": "execute_result"
    }
   ],
   "source": [
    "not_found = []\n",
    "def check_record(record):\n",
    "    c = train_unik['having_IP'] == record['having_IP']\n",
    "    for col in train_unik.columns:\n",
    "        c = c & (train_unik[col] == record[col])\n",
    "    l = train_unik[c]\n",
    "    \n",
    "    if len(l) > 0:\n",
    "        # display(l)\n",
    "        r = train.loc[l.index, \"Result\"].values[0]\n",
    "        # display(r)\n",
    "        return r\n",
    "    else:\n",
    "        not_found.append(record)\n",
    "        return -99\n",
    "\n",
    "trace_df = test.apply(check_record, axis=1)\n",
    "# display(trace_df)\n",
    "\"Not found\", len(not_found)"
   ]
  },
  {
   "cell_type": "code",
   "execution_count": 11,
   "metadata": {
    "id": "Z1hL3bMLGc0w"
   },
   "outputs": [],
   "source": [
    "pd.DataFrame(not_found).to_csv(\"test_not_found.csv\")"
   ]
  },
  {
   "cell_type": "code",
   "execution_count": 12,
   "metadata": {
    "id": "530_mMvABjIh"
   },
   "outputs": [],
   "source": [
    "submit = pd.DataFrame(dict(key=testdf.key, Result=trace_df))\n",
    "submit.to_csv(\"compare_mat.csv\", index=None)"
   ]
  },
  {
   "cell_type": "code",
   "execution_count": null,
   "metadata": {
    "id": "ibsHwvOxB33I"
   },
   "outputs": [],
   "source": [
    "submit[submit.Result == -99].shape"
   ]
  },
  {
   "cell_type": "code",
   "execution_count": null,
   "metadata": {
    "id": "6P0fJZIrHsXi"
   },
   "outputs": [],
   "source": [
    "rfedf = pd.read_csv(\"submission_rfe_415.csv\")\n",
    "rfedf"
   ]
  },
  {
   "cell_type": "code",
   "execution_count": null,
   "metadata": {
    "id": "4G4RRqm8WnIP"
   },
   "outputs": [],
   "source": [
    "submit.shape"
   ]
  },
  {
   "cell_type": "code",
   "execution_count": null,
   "metadata": {
    "id": "WOrCSneAWqOG"
   },
   "outputs": [],
   "source": [
    "1 - (653/2100)"
   ]
  },
  {
   "cell_type": "code",
   "execution_count": null,
   "metadata": {
    "id": "YDOSW2siWs9m"
   },
   "outputs": [],
   "source": [
    "best = pd.read_csv(\"submission_07-best.csv\")"
   ]
  },
  {
   "cell_type": "code",
   "execution_count": null,
   "metadata": {
    "id": "l2EOdJMjXHy-"
   },
   "outputs": [],
   "source": [
    "submit.loc[submit[submit.Result == -99].index,\"Result\"] = best.loc[submit[submit.Result == -99].index,\"Result\"]"
   ]
  },
  {
   "cell_type": "code",
   "execution_count": null,
   "metadata": {
    "id": "vdV2_ij3XKi7"
   },
   "outputs": [],
   "source": [
    "submit.to_csv(\"compare_mat.csv\", index=None)"
   ]
  },
  {
   "cell_type": "code",
   "execution_count": null,
   "metadata": {
    "id": "YgPkrij3XrET"
   },
   "outputs": [],
   "source": []
  }
 ],
 "metadata": {
  "colab": {
   "authorship_tag": "ABX9TyNDXzOuGlg7W5nF7Ucs+oeJ",
   "name": "manual value analysis",
   "private_outputs": true,
   "provenance": []
  },
  "kernelspec": {
   "display_name": "Python 3 (ipykernel)",
   "language": "python",
   "name": "python3"
  },
  "language_info": {
   "codemirror_mode": {
    "name": "ipython",
    "version": 3
   },
   "file_extension": ".py",
   "mimetype": "text/x-python",
   "name": "python",
   "nbconvert_exporter": "python",
   "pygments_lexer": "ipython3",
   "version": "3.9.7"
  }
 },
 "nbformat": 4,
 "nbformat_minor": 4
}
