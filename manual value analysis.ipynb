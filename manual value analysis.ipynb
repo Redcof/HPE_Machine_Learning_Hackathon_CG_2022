{
 "cells": [
  {
   "cell_type": "code",
   "execution_count": null,
   "metadata": {
    "id": "0HS9SwdBA2SR"
   },
   "outputs": [],
   "source": [
    "!wget https://www.techgig.com/files/DataScienceData/344575/Phising_Training_Dataset.csv\n",
    "!wget https://www.techgig.com/files/DataScienceData/344575/Phising_Testing_Dataset.csv\n",
    "!wget https://www.techgig.com/files/DataScienceData/344575/sample_submission.csv"
   ]
  },
  {
   "cell_type": "code",
   "execution_count": 1,
   "metadata": {
    "id": "DHZAWspWBEiL"
   },
   "outputs": [],
   "source": [
    "import pandas as pd\n",
    "import numpy as np\n",
    "import matplotlib.pyplot as plt\n",
    "# !pip install sweetviz\n",
    "import sweetviz as eda\n",
    "import seaborn as sns"
   ]
  },
  {
   "cell_type": "code",
   "execution_count": 2,
   "metadata": {
    "id": "czZXuE_dBGYm"
   },
   "outputs": [],
   "source": [
    "from sklearn.model_selection import cross_val_score\n",
    "from sklearn.tree import DecisionTreeClassifier\n",
    "from sklearn.model_selection import GridSearchCV\n",
    "\n",
    "# set pandas options\n",
    "pd.set_option(\"display.max_colwidth\", None)\n",
    "pd.set_option(\"display.max_columns\", None)\n",
    "\n",
    "# /content/drive/MyDrive/TechGig_HPE_ML_2022\n",
    "root = \"/content/drive/MyDrive/TechGig_HPE_ML_2022/%s\"\n",
    "\n",
    "from joblib import dump, load"
   ]
  },
  {
   "cell_type": "code",
   "execution_count": 76,
   "metadata": {
    "id": "y-gseLfHBIrU"
   },
   "outputs": [],
   "source": [
    "# read the data\n",
    "train = pd.read_csv(\"./Phising_Training_Dataset.csv\")\n",
    "testdf = pd.read_csv(\"./Phising_Testing_Dataset.csv\")\n",
    "bestdf = pd.read_csv(\"./submission_07-best.csv\")"
   ]
  },
  {
   "cell_type": "code",
   "execution_count": 55,
   "metadata": {
    "id": "tGi3q6PRBKsN"
   },
   "outputs": [],
   "source": [
    "train_unik = train.drop_duplicates()"
   ]
  },
  {
   "cell_type": "code",
   "execution_count": 56,
   "metadata": {
    "id": "oObmPlNwBP_e"
   },
   "outputs": [],
   "source": [
    "train_unik.drop(columns=[\"key\", \"Result\"], inplace=True)"
   ]
  },
  {
   "cell_type": "code",
   "execution_count": 57,
   "metadata": {
    "id": "tTSQdJKwBaix"
   },
   "outputs": [],
   "source": [
    "test = testdf.drop(columns=[\"key\"])"
   ]
  },
  {
   "cell_type": "code",
   "execution_count": 58,
   "metadata": {
    "id": "TiISelCvCxUM"
   },
   "outputs": [
    {
     "name": "stdout",
     "output_type": "stream",
     "text": [
      "<class 'pandas.core.frame.DataFrame'>\n",
      "Int64Index: 8955 entries, 0 to 8954\n",
      "Data columns (total 30 columns):\n",
      " #   Column                       Non-Null Count  Dtype\n",
      "---  ------                       --------------  -----\n",
      " 0   having_IP                    8955 non-null   int64\n",
      " 1   URL_Length                   8955 non-null   int64\n",
      " 2   Shortining_Service           8955 non-null   int64\n",
      " 3   having_At_Symbol             8955 non-null   int64\n",
      " 4   double_slash_redirecting     8955 non-null   int64\n",
      " 5   Prefix_Suffix                8955 non-null   int64\n",
      " 6   having_Sub_Domain            8955 non-null   int64\n",
      " 7   SSLfinal_State               8955 non-null   int64\n",
      " 8   Domain_registeration_length  8955 non-null   int64\n",
      " 9   Favicon                      8955 non-null   int64\n",
      " 10  port                         8955 non-null   int64\n",
      " 11  HTTPS_token                  8955 non-null   int64\n",
      " 12  Request_URL                  8955 non-null   int64\n",
      " 13  URL_of_Anchor                8955 non-null   int64\n",
      " 14  Links_in_tags                8955 non-null   int64\n",
      " 15  SFH                          8955 non-null   int64\n",
      " 16  Submitting_to_email          8955 non-null   int64\n",
      " 17  Abnormal_URL                 8955 non-null   int64\n",
      " 18  Redirect                     8955 non-null   int64\n",
      " 19  on_mouseover                 8955 non-null   int64\n",
      " 20  RightClick                   8955 non-null   int64\n",
      " 21  popUpWidnow                  8955 non-null   int64\n",
      " 22  Iframe                       8955 non-null   int64\n",
      " 23  age_of_domain                8955 non-null   int64\n",
      " 24  DNSRecord                    8955 non-null   int64\n",
      " 25  web_traffic                  8955 non-null   int64\n",
      " 26  Page_Rank                    8955 non-null   int64\n",
      " 27  Google_Index                 8955 non-null   int64\n",
      " 28  Links_pointing_to_page       8955 non-null   int64\n",
      " 29  Statistical_report           8955 non-null   int64\n",
      "dtypes: int64(30)\n",
      "memory usage: 2.1 MB\n"
     ]
    }
   ],
   "source": [
    "train_unik.info()"
   ]
  },
  {
   "cell_type": "code",
   "execution_count": 59,
   "metadata": {
    "id": "Hr-iceAiCz-v"
   },
   "outputs": [
    {
     "name": "stdout",
     "output_type": "stream",
     "text": [
      "<class 'pandas.core.frame.DataFrame'>\n",
      "RangeIndex: 2100 entries, 0 to 2099\n",
      "Data columns (total 30 columns):\n",
      " #   Column                       Non-Null Count  Dtype\n",
      "---  ------                       --------------  -----\n",
      " 0   having_IP                    2100 non-null   int64\n",
      " 1   URL_Length                   2100 non-null   int64\n",
      " 2   Shortining_Service           2100 non-null   int64\n",
      " 3   having_At_Symbol             2100 non-null   int64\n",
      " 4   double_slash_redirecting     2100 non-null   int64\n",
      " 5   Prefix_Suffix                2100 non-null   int64\n",
      " 6   having_Sub_Domain            2100 non-null   int64\n",
      " 7   SSLfinal_State               2100 non-null   int64\n",
      " 8   Domain_registeration_length  2100 non-null   int64\n",
      " 9   Favicon                      2100 non-null   int64\n",
      " 10  port                         2100 non-null   int64\n",
      " 11  HTTPS_token                  2100 non-null   int64\n",
      " 12  Request_URL                  2100 non-null   int64\n",
      " 13  URL_of_Anchor                2100 non-null   int64\n",
      " 14  Links_in_tags                2100 non-null   int64\n",
      " 15  SFH                          2100 non-null   int64\n",
      " 16  Submitting_to_email          2100 non-null   int64\n",
      " 17  Abnormal_URL                 2100 non-null   int64\n",
      " 18  Redirect                     2100 non-null   int64\n",
      " 19  on_mouseover                 2100 non-null   int64\n",
      " 20  RightClick                   2100 non-null   int64\n",
      " 21  popUpWidnow                  2100 non-null   int64\n",
      " 22  Iframe                       2100 non-null   int64\n",
      " 23  age_of_domain                2100 non-null   int64\n",
      " 24  DNSRecord                    2100 non-null   int64\n",
      " 25  web_traffic                  2100 non-null   int64\n",
      " 26  Page_Rank                    2100 non-null   int64\n",
      " 27  Google_Index                 2100 non-null   int64\n",
      " 28  Links_pointing_to_page       2100 non-null   int64\n",
      " 29  Statistical_report           2100 non-null   int64\n",
      "dtypes: int64(30)\n",
      "memory usage: 492.3 KB\n"
     ]
    }
   ],
   "source": [
    "test.info()"
   ]
  },
  {
   "cell_type": "code",
   "execution_count": 60,
   "metadata": {
    "id": "HuJ1O2ITDT_V"
   },
   "outputs": [
    {
     "data": {
      "text/plain": [
       "(array(['having_IP', 'URL_Length', 'Shortining_Service',\n",
       "        'having_At_Symbol', 'double_slash_redirecting', 'Prefix_Suffix',\n",
       "        'having_Sub_Domain', 'SSLfinal_State',\n",
       "        'Domain_registeration_length', 'Favicon', 'port', 'HTTPS_token',\n",
       "        'Request_URL', 'URL_of_Anchor', 'Links_in_tags', 'SFH',\n",
       "        'Submitting_to_email', 'Abnormal_URL', 'Redirect', 'on_mouseover',\n",
       "        'RightClick', 'popUpWidnow', 'Iframe', 'age_of_domain',\n",
       "        'DNSRecord', 'web_traffic', 'Page_Rank', 'Google_Index',\n",
       "        'Links_pointing_to_page', 'Statistical_report'], dtype=object),\n",
       " array(['having_IP', 'URL_Length', 'Shortining_Service',\n",
       "        'having_At_Symbol', 'double_slash_redirecting', 'Prefix_Suffix',\n",
       "        'having_Sub_Domain', 'SSLfinal_State',\n",
       "        'Domain_registeration_length', 'Favicon', 'port', 'HTTPS_token',\n",
       "        'Request_URL', 'URL_of_Anchor', 'Links_in_tags', 'SFH',\n",
       "        'Submitting_to_email', 'Abnormal_URL', 'Redirect', 'on_mouseover',\n",
       "        'RightClick', 'popUpWidnow', 'Iframe', 'age_of_domain',\n",
       "        'DNSRecord', 'web_traffic', 'Page_Rank', 'Google_Index',\n",
       "        'Links_pointing_to_page', 'Statistical_report'], dtype=object))"
      ]
     },
     "execution_count": 60,
     "metadata": {},
     "output_type": "execute_result"
    }
   ],
   "source": [
    "test.columns.values, train_unik.columns.values"
   ]
  },
  {
   "cell_type": "code",
   "execution_count": 61,
   "metadata": {
    "id": "cj3fiHr3D7Tq"
   },
   "outputs": [
    {
     "data": {
      "text/plain": [
       "0        1\n",
       "1       -1\n",
       "2       -1\n",
       "3       -1\n",
       "4        1\n",
       "        ..\n",
       "2095     1\n",
       "2096   -99\n",
       "2097    -1\n",
       "2098   -99\n",
       "2099   -99\n",
       "Length: 2100, dtype: int64"
      ]
     },
     "metadata": {},
     "output_type": "display_data"
    },
    {
     "data": {
      "text/plain": [
       "('Not found', 653)"
      ]
     },
     "execution_count": 61,
     "metadata": {},
     "output_type": "execute_result"
    }
   ],
   "source": [
    "not_found = []\n",
    "def check_record(record):\n",
    "    c = train_unik['having_IP'] == record['having_IP']\n",
    "    for col in train_unik.columns:\n",
    "        c = c & (train_unik[col] == record[col])\n",
    "    l = train_unik[c]\n",
    "    \n",
    "    if len(l) > 0:\n",
    "        # display(l)\n",
    "        r = train.loc[l.index, \"Result\"].values[0]\n",
    "        # display(r)\n",
    "        return r\n",
    "    else:\n",
    "        not_found.append(record)\n",
    "        # assign -99 to undefined records\n",
    "        return -99\n",
    "\n",
    "trace_df = test.apply(check_record, axis=1)\n",
    "display(trace_df)\n",
    "\"Not found\", len(not_found)"
   ]
  },
  {
   "cell_type": "code",
   "execution_count": 87,
   "metadata": {
    "id": "530_mMvABjIh"
   },
   "outputs": [],
   "source": [
    "# prepare submit df\n",
    "submitdf_raw = pd.DataFrame(dict(key=testdf.key, Result=trace_df))\n",
    "submitdf = submitdf_raw.copy()\n",
    "# assign undefinable records from best df\n",
    "submitdf.loc[submitdf[\"Result\"] == -99, \"Result\"] = bestdf[submitdf.Result == -99][\"Result\"]\n",
    "\n",
    "submitdf.to_csv(\"compare_mat.csv\", index=None)"
   ]
  },
  {
   "cell_type": "code",
   "execution_count": 65,
   "metadata": {
    "id": "ibsHwvOxB33I"
   },
   "outputs": [
    {
     "data": {
      "text/plain": [
       "(653, 2)"
      ]
     },
     "execution_count": 65,
     "metadata": {},
     "output_type": "execute_result"
    }
   ],
   "source": [
    "submitdf[submitdf.Result == -99].shape"
   ]
  },
  {
   "cell_type": "code",
   "execution_count": null,
   "metadata": {},
   "outputs": [],
   "source": []
  },
  {
   "cell_type": "code",
   "execution_count": 98,
   "metadata": {},
   "outputs": [
    {
     "data": {
      "text/plain": [
       "105.0"
      ]
     },
     "execution_count": 98,
     "metadata": {},
     "output_type": "execute_result"
    }
   ],
   "source": [
    "submitdf.shape[0]*.05"
   ]
  },
  {
   "cell_type": "code",
   "execution_count": 91,
   "metadata": {
    "id": "YgPkrij3XrET"
   },
   "outputs": [
    {
     "data": {
      "text/html": [
       "<div>\n",
       "<style scoped>\n",
       "    .dataframe tbody tr th:only-of-type {\n",
       "        vertical-align: middle;\n",
       "    }\n",
       "\n",
       "    .dataframe tbody tr th {\n",
       "        vertical-align: top;\n",
       "    }\n",
       "\n",
       "    .dataframe thead th {\n",
       "        text-align: right;\n",
       "    }\n",
       "</style>\n",
       "<table border=\"1\" class=\"dataframe\">\n",
       "  <thead>\n",
       "    <tr style=\"text-align: right;\">\n",
       "      <th></th>\n",
       "      <th>key</th>\n",
       "      <th>having_IP</th>\n",
       "      <th>URL_Length</th>\n",
       "      <th>Shortining_Service</th>\n",
       "      <th>having_At_Symbol</th>\n",
       "      <th>double_slash_redirecting</th>\n",
       "      <th>Prefix_Suffix</th>\n",
       "      <th>having_Sub_Domain</th>\n",
       "      <th>SSLfinal_State</th>\n",
       "      <th>Domain_registeration_length</th>\n",
       "      <th>Favicon</th>\n",
       "      <th>port</th>\n",
       "      <th>HTTPS_token</th>\n",
       "      <th>Request_URL</th>\n",
       "      <th>URL_of_Anchor</th>\n",
       "      <th>Links_in_tags</th>\n",
       "      <th>SFH</th>\n",
       "      <th>Submitting_to_email</th>\n",
       "      <th>Abnormal_URL</th>\n",
       "      <th>Redirect</th>\n",
       "      <th>on_mouseover</th>\n",
       "      <th>RightClick</th>\n",
       "      <th>popUpWidnow</th>\n",
       "      <th>Iframe</th>\n",
       "      <th>age_of_domain</th>\n",
       "      <th>DNSRecord</th>\n",
       "      <th>web_traffic</th>\n",
       "      <th>Page_Rank</th>\n",
       "      <th>Google_Index</th>\n",
       "      <th>Links_pointing_to_page</th>\n",
       "      <th>Statistical_report</th>\n",
       "      <th>Result</th>\n",
       "      <th>Result2</th>\n",
       "    </tr>\n",
       "  </thead>\n",
       "  <tbody>\n",
       "    <tr>\n",
       "      <th>1034</th>\n",
       "      <td>22372</td>\n",
       "      <td>1</td>\n",
       "      <td>-1</td>\n",
       "      <td>1</td>\n",
       "      <td>1</td>\n",
       "      <td>1</td>\n",
       "      <td>1</td>\n",
       "      <td>1</td>\n",
       "      <td>1</td>\n",
       "      <td>1</td>\n",
       "      <td>1</td>\n",
       "      <td>1</td>\n",
       "      <td>1</td>\n",
       "      <td>-1</td>\n",
       "      <td>1</td>\n",
       "      <td>-1</td>\n",
       "      <td>-1</td>\n",
       "      <td>1</td>\n",
       "      <td>1</td>\n",
       "      <td>0</td>\n",
       "      <td>1</td>\n",
       "      <td>1</td>\n",
       "      <td>-1</td>\n",
       "      <td>1</td>\n",
       "      <td>1</td>\n",
       "      <td>1</td>\n",
       "      <td>1</td>\n",
       "      <td>-1</td>\n",
       "      <td>1</td>\n",
       "      <td>0</td>\n",
       "      <td>1</td>\n",
       "      <td>1</td>\n",
       "      <td>1</td>\n",
       "    </tr>\n",
       "    <tr>\n",
       "      <th>1176</th>\n",
       "      <td>22514</td>\n",
       "      <td>-1</td>\n",
       "      <td>-1</td>\n",
       "      <td>1</td>\n",
       "      <td>1</td>\n",
       "      <td>1</td>\n",
       "      <td>-1</td>\n",
       "      <td>0</td>\n",
       "      <td>-1</td>\n",
       "      <td>-1</td>\n",
       "      <td>1</td>\n",
       "      <td>1</td>\n",
       "      <td>1</td>\n",
       "      <td>-1</td>\n",
       "      <td>-1</td>\n",
       "      <td>0</td>\n",
       "      <td>-1</td>\n",
       "      <td>1</td>\n",
       "      <td>1</td>\n",
       "      <td>1</td>\n",
       "      <td>1</td>\n",
       "      <td>1</td>\n",
       "      <td>1</td>\n",
       "      <td>1</td>\n",
       "      <td>-1</td>\n",
       "      <td>1</td>\n",
       "      <td>-1</td>\n",
       "      <td>1</td>\n",
       "      <td>1</td>\n",
       "      <td>1</td>\n",
       "      <td>1</td>\n",
       "      <td>-99</td>\n",
       "      <td>-99</td>\n",
       "    </tr>\n",
       "    <tr>\n",
       "      <th>67</th>\n",
       "      <td>21405</td>\n",
       "      <td>1</td>\n",
       "      <td>-1</td>\n",
       "      <td>1</td>\n",
       "      <td>1</td>\n",
       "      <td>1</td>\n",
       "      <td>-1</td>\n",
       "      <td>-1</td>\n",
       "      <td>-1</td>\n",
       "      <td>1</td>\n",
       "      <td>1</td>\n",
       "      <td>1</td>\n",
       "      <td>1</td>\n",
       "      <td>-1</td>\n",
       "      <td>-1</td>\n",
       "      <td>-1</td>\n",
       "      <td>-1</td>\n",
       "      <td>1</td>\n",
       "      <td>1</td>\n",
       "      <td>0</td>\n",
       "      <td>1</td>\n",
       "      <td>1</td>\n",
       "      <td>1</td>\n",
       "      <td>1</td>\n",
       "      <td>-1</td>\n",
       "      <td>-1</td>\n",
       "      <td>-1</td>\n",
       "      <td>-1</td>\n",
       "      <td>-1</td>\n",
       "      <td>1</td>\n",
       "      <td>1</td>\n",
       "      <td>-1</td>\n",
       "      <td>-1</td>\n",
       "    </tr>\n",
       "    <tr>\n",
       "      <th>1330</th>\n",
       "      <td>22668</td>\n",
       "      <td>-1</td>\n",
       "      <td>-1</td>\n",
       "      <td>1</td>\n",
       "      <td>1</td>\n",
       "      <td>1</td>\n",
       "      <td>-1</td>\n",
       "      <td>1</td>\n",
       "      <td>0</td>\n",
       "      <td>1</td>\n",
       "      <td>1</td>\n",
       "      <td>1</td>\n",
       "      <td>1</td>\n",
       "      <td>-1</td>\n",
       "      <td>0</td>\n",
       "      <td>-1</td>\n",
       "      <td>1</td>\n",
       "      <td>1</td>\n",
       "      <td>1</td>\n",
       "      <td>1</td>\n",
       "      <td>1</td>\n",
       "      <td>1</td>\n",
       "      <td>1</td>\n",
       "      <td>-1</td>\n",
       "      <td>-1</td>\n",
       "      <td>1</td>\n",
       "      <td>-1</td>\n",
       "      <td>-1</td>\n",
       "      <td>1</td>\n",
       "      <td>1</td>\n",
       "      <td>1</td>\n",
       "      <td>-99</td>\n",
       "      <td>-99</td>\n",
       "    </tr>\n",
       "    <tr>\n",
       "      <th>650</th>\n",
       "      <td>21988</td>\n",
       "      <td>-1</td>\n",
       "      <td>-1</td>\n",
       "      <td>-1</td>\n",
       "      <td>1</td>\n",
       "      <td>-1</td>\n",
       "      <td>1</td>\n",
       "      <td>0</td>\n",
       "      <td>1</td>\n",
       "      <td>-1</td>\n",
       "      <td>1</td>\n",
       "      <td>1</td>\n",
       "      <td>-1</td>\n",
       "      <td>1</td>\n",
       "      <td>0</td>\n",
       "      <td>0</td>\n",
       "      <td>-1</td>\n",
       "      <td>1</td>\n",
       "      <td>-1</td>\n",
       "      <td>1</td>\n",
       "      <td>1</td>\n",
       "      <td>1</td>\n",
       "      <td>1</td>\n",
       "      <td>1</td>\n",
       "      <td>1</td>\n",
       "      <td>-1</td>\n",
       "      <td>1</td>\n",
       "      <td>-1</td>\n",
       "      <td>1</td>\n",
       "      <td>1</td>\n",
       "      <td>1</td>\n",
       "      <td>1</td>\n",
       "      <td>1</td>\n",
       "    </tr>\n",
       "  </tbody>\n",
       "</table>\n",
       "</div>"
      ],
      "text/plain": [
       "        key  having_IP  URL_Length  Shortining_Service  having_At_Symbol  \\\n",
       "1034  22372          1          -1                   1                 1   \n",
       "1176  22514         -1          -1                   1                 1   \n",
       "67    21405          1          -1                   1                 1   \n",
       "1330  22668         -1          -1                   1                 1   \n",
       "650   21988         -1          -1                  -1                 1   \n",
       "\n",
       "      double_slash_redirecting  Prefix_Suffix  having_Sub_Domain  \\\n",
       "1034                         1              1                  1   \n",
       "1176                         1             -1                  0   \n",
       "67                           1             -1                 -1   \n",
       "1330                         1             -1                  1   \n",
       "650                         -1              1                  0   \n",
       "\n",
       "      SSLfinal_State  Domain_registeration_length  Favicon  port  HTTPS_token  \\\n",
       "1034               1                            1        1     1            1   \n",
       "1176              -1                           -1        1     1            1   \n",
       "67                -1                            1        1     1            1   \n",
       "1330               0                            1        1     1            1   \n",
       "650                1                           -1        1     1           -1   \n",
       "\n",
       "      Request_URL  URL_of_Anchor  Links_in_tags  SFH  Submitting_to_email  \\\n",
       "1034           -1              1             -1   -1                    1   \n",
       "1176           -1             -1              0   -1                    1   \n",
       "67             -1             -1             -1   -1                    1   \n",
       "1330           -1              0             -1    1                    1   \n",
       "650             1              0              0   -1                    1   \n",
       "\n",
       "      Abnormal_URL  Redirect  on_mouseover  RightClick  popUpWidnow  Iframe  \\\n",
       "1034             1         0             1           1           -1       1   \n",
       "1176             1         1             1           1            1       1   \n",
       "67               1         0             1           1            1       1   \n",
       "1330             1         1             1           1            1      -1   \n",
       "650             -1         1             1           1            1       1   \n",
       "\n",
       "      age_of_domain  DNSRecord  web_traffic  Page_Rank  Google_Index  \\\n",
       "1034              1          1            1         -1             1   \n",
       "1176             -1          1           -1          1             1   \n",
       "67               -1         -1           -1         -1            -1   \n",
       "1330             -1          1           -1         -1             1   \n",
       "650               1         -1            1         -1             1   \n",
       "\n",
       "      Links_pointing_to_page  Statistical_report  Result  Result2  \n",
       "1034                       0                   1       1        1  \n",
       "1176                       1                   1     -99      -99  \n",
       "67                         1                   1      -1       -1  \n",
       "1330                       1                   1     -99      -99  \n",
       "650                        1                   1       1        1  "
      ]
     },
     "execution_count": 91,
     "metadata": {},
     "output_type": "execute_result"
    }
   ],
   "source": [
    "testdf[\"Result\"] = trace_df\n",
    "testdf[\"Result2\"] = trace_df\n",
    "testdf.sample(5, random_state=42)"
   ]
  },
  {
   "cell_type": "markdown",
   "metadata": {},
   "source": [
    "From **Pearson-R** correlation we have seen below variables are highly correlated to the target variable: \n",
    "1. `SSLfinal_State`\n",
    "1. `URL_of_Anchor`\n",
    "1. `Prefix_Suffix`"
   ]
  },
  {
   "cell_type": "code",
   "execution_count": 93,
   "metadata": {},
   "outputs": [
    {
     "data": {
      "text/plain": [
       "(3921, 32)"
      ]
     },
     "execution_count": 93,
     "metadata": {},
     "output_type": "execute_result"
    }
   ],
   "source": [
    "# Find the no. of phising records in Train data\n",
    "train[(train[\"Result\"] == -1) & ((train[\"SSLfinal_State\"] == -1) | (train[\"URL_of_Anchor\"] == -1) | (train[\"Prefix_Suffix\"] == -1)) ].shape"
   ]
  },
  {
   "cell_type": "markdown",
   "metadata": {},
   "source": [
    "# Compare and count no. of records in Train dataset, where any of the attributes are -1"
   ]
  },
  {
   "cell_type": "code",
   "execution_count": 83,
   "metadata": {},
   "outputs": [
    {
     "data": {
      "text/plain": [
       "3921"
      ]
     },
     "execution_count": 83,
     "metadata": {},
     "output_type": "execute_result"
    }
   ],
   "source": [
    "# Compare and count no. of records in Train data where\n",
    "sum(train[(train[\"Result\"] == -1) & ((train[\"SSLfinal_State\"] == -1) | (train[\"URL_of_Anchor\"] == -1) | (train[\"Prefix_Suffix\"] == -1)) ].index == train[train[\"Result\"] == -1].index)"
   ]
  },
  {
   "cell_type": "markdown",
   "metadata": {},
   "source": [
    "- Looks like the indices are good\n",
    "- After performing simple data analysis, we can clearly see the key indicator of phishing is:\n",
    "1. `SSLfinal_State`\n",
    "1. `URL_of_Anchor`\n",
    "1. `Prefix_Suffix`\n",
    "\n",
    "- Mark `Result` as `Phishing` for certain record where any of the flags are `Phising=-1`"
   ]
  },
  {
   "cell_type": "code",
   "execution_count": 84,
   "metadata": {},
   "outputs": [
    {
     "data": {
      "text/plain": [
       "(653,)"
      ]
     },
     "execution_count": 84,
     "metadata": {},
     "output_type": "execute_result"
    }
   ],
   "source": [
    "# undefined records\n",
    "testdf.loc[ (testdf[\"Result2\"] == -99), \"Result2\"].shape"
   ]
  },
  {
   "cell_type": "code",
   "execution_count": 85,
   "metadata": {},
   "outputs": [
    {
     "data": {
      "text/plain": [
       "(584,)"
      ]
     },
     "execution_count": 85,
     "metadata": {},
     "output_type": "execute_result"
    }
   ],
   "source": [
    "# undefined records where any of the flags is -1\n",
    "testdf.loc[((testdf[\"SSLfinal_State\"] == -1) | (testdf[\"URL_of_Anchor\"] == -1) | (testdf[\"Prefix_Suffix\"] == -1)) & (testdf[\"Result2\"] == -99), \"Result2\"].shape"
   ]
  },
  {
   "cell_type": "code",
   "execution_count": 86,
   "metadata": {},
   "outputs": [],
   "source": [
    "# assign -1 to undefined records where any of the flags is -1\n",
    "testdf.loc[((testdf[\"SSLfinal_State\"] == -1) | (testdf[\"URL_of_Anchor\"] == -1) | (testdf[\"Prefix_Suffix\"] == -1)) & (testdf[\"Result2\"] == -99), \"Result2\"] = -1 "
   ]
  },
  {
   "cell_type": "code",
   "execution_count": 74,
   "metadata": {},
   "outputs": [
    {
     "data": {
      "text/plain": [
       "(69,)"
      ]
     },
     "execution_count": 74,
     "metadata": {},
     "output_type": "execute_result"
    }
   ],
   "source": [
    "# undefined records\n",
    "testdf.loc[ (testdf[\"Result2\"] == -99), \"Result2\"].shape"
   ]
  },
  {
   "cell_type": "code",
   "execution_count": 88,
   "metadata": {},
   "outputs": [],
   "source": [
    "# assign -1 to undefined records from bestdf\n",
    "testdf.loc[testdf[\"Result2\"] == -99, \"Result2\"] = bestdf[testdf[\"Result\"] == -99][\"Result\"]\n"
   ]
  },
  {
   "cell_type": "code",
   "execution_count": 89,
   "metadata": {},
   "outputs": [
    {
     "data": {
      "text/plain": [
       "(0,)"
      ]
     },
     "execution_count": 89,
     "metadata": {},
     "output_type": "execute_result"
    }
   ],
   "source": [
    "# undefined records\n",
    "testdf.loc[ (testdf[\"Result2\"] == -99), \"Result2\"].shape"
   ]
  },
  {
   "cell_type": "code",
   "execution_count": null,
   "metadata": {},
   "outputs": [],
   "source": []
  },
  {
   "cell_type": "code",
   "execution_count": null,
   "metadata": {},
   "outputs": [],
   "source": []
  },
  {
   "cell_type": "code",
   "execution_count": 90,
   "metadata": {},
   "outputs": [],
   "source": [
    "submit = testdf[[\"key\", \"Result\"]]\n",
    "submit.to_csv(\"compare_mat2.csv\", index=None)"
   ]
  },
  {
   "cell_type": "code",
   "execution_count": 53,
   "metadata": {},
   "outputs": [
    {
     "ename": "ValueError",
     "evalue": "Can only compare identically-labeled DataFrame objects",
     "output_type": "error",
     "traceback": [
      "\u001b[1;31m---------------------------------------------------------------------------\u001b[0m",
      "\u001b[1;31mValueError\u001b[0m                                Traceback (most recent call last)",
      "\u001b[1;32mC:\\Users\\DNDLSS~1\\AppData\\Local\\Temp/ipykernel_4456/671947246.py\u001b[0m in \u001b[0;36m<module>\u001b[1;34m\u001b[0m\n\u001b[1;32m----> 1\u001b[1;33m \u001b[0msubmitdf\u001b[0m\u001b[1;33m[\u001b[0m\u001b[0msubmitdf\u001b[0m\u001b[1;33m[\u001b[0m\u001b[1;34m\"Result\"\u001b[0m\u001b[1;33m]\u001b[0m \u001b[1;33m!=\u001b[0m \u001b[1;33m-\u001b[0m\u001b[1;36m99\u001b[0m\u001b[1;33m]\u001b[0m \u001b[1;33m==\u001b[0m \u001b[0mtestdf\u001b[0m\u001b[1;33m[\u001b[0m\u001b[0msubmitdf\u001b[0m\u001b[1;33m[\u001b[0m\u001b[1;34m\"Result\"\u001b[0m\u001b[1;33m]\u001b[0m \u001b[1;33m!=\u001b[0m \u001b[1;33m-\u001b[0m\u001b[1;36m99\u001b[0m\u001b[1;33m]\u001b[0m\u001b[1;33m\u001b[0m\u001b[1;33m\u001b[0m\u001b[0m\n\u001b[0m",
      "\u001b[1;32m~\\Anaconda3\\lib\\site-packages\\pandas\\core\\ops\\common.py\u001b[0m in \u001b[0;36mnew_method\u001b[1;34m(self, other)\u001b[0m\n\u001b[0;32m     67\u001b[0m         \u001b[0mother\u001b[0m \u001b[1;33m=\u001b[0m \u001b[0mitem_from_zerodim\u001b[0m\u001b[1;33m(\u001b[0m\u001b[0mother\u001b[0m\u001b[1;33m)\u001b[0m\u001b[1;33m\u001b[0m\u001b[1;33m\u001b[0m\u001b[0m\n\u001b[0;32m     68\u001b[0m \u001b[1;33m\u001b[0m\u001b[0m\n\u001b[1;32m---> 69\u001b[1;33m         \u001b[1;32mreturn\u001b[0m \u001b[0mmethod\u001b[0m\u001b[1;33m(\u001b[0m\u001b[0mself\u001b[0m\u001b[1;33m,\u001b[0m \u001b[0mother\u001b[0m\u001b[1;33m)\u001b[0m\u001b[1;33m\u001b[0m\u001b[1;33m\u001b[0m\u001b[0m\n\u001b[0m\u001b[0;32m     70\u001b[0m \u001b[1;33m\u001b[0m\u001b[0m\n\u001b[0;32m     71\u001b[0m     \u001b[1;32mreturn\u001b[0m \u001b[0mnew_method\u001b[0m\u001b[1;33m\u001b[0m\u001b[1;33m\u001b[0m\u001b[0m\n",
      "\u001b[1;32m~\\Anaconda3\\lib\\site-packages\\pandas\\core\\arraylike.py\u001b[0m in \u001b[0;36m__eq__\u001b[1;34m(self, other)\u001b[0m\n\u001b[0;32m     30\u001b[0m     \u001b[1;33m@\u001b[0m\u001b[0munpack_zerodim_and_defer\u001b[0m\u001b[1;33m(\u001b[0m\u001b[1;34m\"__eq__\"\u001b[0m\u001b[1;33m)\u001b[0m\u001b[1;33m\u001b[0m\u001b[1;33m\u001b[0m\u001b[0m\n\u001b[0;32m     31\u001b[0m     \u001b[1;32mdef\u001b[0m \u001b[0m__eq__\u001b[0m\u001b[1;33m(\u001b[0m\u001b[0mself\u001b[0m\u001b[1;33m,\u001b[0m \u001b[0mother\u001b[0m\u001b[1;33m)\u001b[0m\u001b[1;33m:\u001b[0m\u001b[1;33m\u001b[0m\u001b[1;33m\u001b[0m\u001b[0m\n\u001b[1;32m---> 32\u001b[1;33m         \u001b[1;32mreturn\u001b[0m \u001b[0mself\u001b[0m\u001b[1;33m.\u001b[0m\u001b[0m_cmp_method\u001b[0m\u001b[1;33m(\u001b[0m\u001b[0mother\u001b[0m\u001b[1;33m,\u001b[0m \u001b[0moperator\u001b[0m\u001b[1;33m.\u001b[0m\u001b[0meq\u001b[0m\u001b[1;33m)\u001b[0m\u001b[1;33m\u001b[0m\u001b[1;33m\u001b[0m\u001b[0m\n\u001b[0m\u001b[0;32m     33\u001b[0m \u001b[1;33m\u001b[0m\u001b[0m\n\u001b[0;32m     34\u001b[0m     \u001b[1;33m@\u001b[0m\u001b[0munpack_zerodim_and_defer\u001b[0m\u001b[1;33m(\u001b[0m\u001b[1;34m\"__ne__\"\u001b[0m\u001b[1;33m)\u001b[0m\u001b[1;33m\u001b[0m\u001b[1;33m\u001b[0m\u001b[0m\n",
      "\u001b[1;32m~\\Anaconda3\\lib\\site-packages\\pandas\\core\\frame.py\u001b[0m in \u001b[0;36m_cmp_method\u001b[1;34m(self, other, op)\u001b[0m\n\u001b[0;32m   6849\u001b[0m         \u001b[0maxis\u001b[0m \u001b[1;33m=\u001b[0m \u001b[1;36m1\u001b[0m  \u001b[1;31m# only relevant for Series other case\u001b[0m\u001b[1;33m\u001b[0m\u001b[1;33m\u001b[0m\u001b[0m\n\u001b[0;32m   6850\u001b[0m \u001b[1;33m\u001b[0m\u001b[0m\n\u001b[1;32m-> 6851\u001b[1;33m         \u001b[0mself\u001b[0m\u001b[1;33m,\u001b[0m \u001b[0mother\u001b[0m \u001b[1;33m=\u001b[0m \u001b[0mops\u001b[0m\u001b[1;33m.\u001b[0m\u001b[0malign_method_FRAME\u001b[0m\u001b[1;33m(\u001b[0m\u001b[0mself\u001b[0m\u001b[1;33m,\u001b[0m \u001b[0mother\u001b[0m\u001b[1;33m,\u001b[0m \u001b[0maxis\u001b[0m\u001b[1;33m,\u001b[0m \u001b[0mflex\u001b[0m\u001b[1;33m=\u001b[0m\u001b[1;32mFalse\u001b[0m\u001b[1;33m,\u001b[0m \u001b[0mlevel\u001b[0m\u001b[1;33m=\u001b[0m\u001b[1;32mNone\u001b[0m\u001b[1;33m)\u001b[0m\u001b[1;33m\u001b[0m\u001b[1;33m\u001b[0m\u001b[0m\n\u001b[0m\u001b[0;32m   6852\u001b[0m \u001b[1;33m\u001b[0m\u001b[0m\n\u001b[0;32m   6853\u001b[0m         \u001b[1;31m# See GH#4537 for discussion of scalar op behavior\u001b[0m\u001b[1;33m\u001b[0m\u001b[1;33m\u001b[0m\u001b[0m\n",
      "\u001b[1;32m~\\Anaconda3\\lib\\site-packages\\pandas\\core\\ops\\__init__.py\u001b[0m in \u001b[0;36malign_method_FRAME\u001b[1;34m(left, right, axis, flex, level)\u001b[0m\n\u001b[0;32m    286\u001b[0m                 \u001b[0mleft\u001b[0m\u001b[1;33m,\u001b[0m \u001b[0mright\u001b[0m \u001b[1;33m=\u001b[0m \u001b[0mleft\u001b[0m\u001b[1;33m.\u001b[0m\u001b[0malign\u001b[0m\u001b[1;33m(\u001b[0m\u001b[0mright\u001b[0m\u001b[1;33m,\u001b[0m \u001b[0mjoin\u001b[0m\u001b[1;33m=\u001b[0m\u001b[1;34m\"outer\"\u001b[0m\u001b[1;33m,\u001b[0m \u001b[0mlevel\u001b[0m\u001b[1;33m=\u001b[0m\u001b[0mlevel\u001b[0m\u001b[1;33m,\u001b[0m \u001b[0mcopy\u001b[0m\u001b[1;33m=\u001b[0m\u001b[1;32mFalse\u001b[0m\u001b[1;33m)\u001b[0m\u001b[1;33m\u001b[0m\u001b[1;33m\u001b[0m\u001b[0m\n\u001b[0;32m    287\u001b[0m             \u001b[1;32melse\u001b[0m\u001b[1;33m:\u001b[0m\u001b[1;33m\u001b[0m\u001b[1;33m\u001b[0m\u001b[0m\n\u001b[1;32m--> 288\u001b[1;33m                 raise ValueError(\n\u001b[0m\u001b[0;32m    289\u001b[0m                     \u001b[1;34m\"Can only compare identically-labeled DataFrame objects\"\u001b[0m\u001b[1;33m\u001b[0m\u001b[1;33m\u001b[0m\u001b[0m\n\u001b[0;32m    290\u001b[0m                 )\n",
      "\u001b[1;31mValueError\u001b[0m: Can only compare identically-labeled DataFrame objects"
     ]
    }
   ],
   "source": [
    "# submitdf[submitdf[\"Result\"] != -99] == testdf[submitdf[\"Result\"] != -99]"
   ]
  },
  {
   "cell_type": "markdown",
   "metadata": {},
   "source": [
    "# Manually compare 653"
   ]
  },
  {
   "cell_type": "code",
   "execution_count": 108,
   "metadata": {},
   "outputs": [
    {
     "data": {
      "text/plain": [
       "(653, 2)"
      ]
     },
     "execution_count": 108,
     "metadata": {},
     "output_type": "execute_result"
    }
   ],
   "source": [
    "u99 = submitdf_raw[submitdf_raw['Result'] == -99]\n",
    "u99.shape"
   ]
  },
  {
   "cell_type": "code",
   "execution_count": 104,
   "metadata": {},
   "outputs": [],
   "source": [
    "# filter out the records\n",
    "u99t = testdf[submitdf_raw['Result'] == -99]"
   ]
  },
  {
   "cell_type": "code",
   "execution_count": 109,
   "metadata": {},
   "outputs": [
    {
     "name": "stderr",
     "output_type": "stream",
     "text": [
      "C:\\Users\\DNDLSS~1\\AppData\\Local\\Temp/ipykernel_4456/1676988293.py:2: SettingWithCopyWarning: \n",
      "A value is trying to be set on a copy of a slice from a DataFrame.\n",
      "Try using .loc[row_indexer,col_indexer] = value instead\n",
      "\n",
      "See the caveats in the documentation: https://pandas.pydata.org/pandas-docs/stable/user_guide/indexing.html#returning-a-view-versus-a-copy\n",
      "  u99t[\"Result\"] = submitdf[\"Result\"]\n"
     ]
    }
   ],
   "source": [
    "# apply best scores for better comparison\n",
    "u99t[\"Result\"] = submitdf[\"Result\"]"
   ]
  },
  {
   "cell_type": "code",
   "execution_count": 110,
   "metadata": {},
   "outputs": [
    {
     "data": {
      "text/html": [
       "<div>\n",
       "<style scoped>\n",
       "    .dataframe tbody tr th:only-of-type {\n",
       "        vertical-align: middle;\n",
       "    }\n",
       "\n",
       "    .dataframe tbody tr th {\n",
       "        vertical-align: top;\n",
       "    }\n",
       "\n",
       "    .dataframe thead th {\n",
       "        text-align: right;\n",
       "    }\n",
       "</style>\n",
       "<table border=\"1\" class=\"dataframe\">\n",
       "  <thead>\n",
       "    <tr style=\"text-align: right;\">\n",
       "      <th></th>\n",
       "      <th>key</th>\n",
       "      <th>having_IP</th>\n",
       "      <th>URL_Length</th>\n",
       "      <th>Shortining_Service</th>\n",
       "      <th>having_At_Symbol</th>\n",
       "      <th>double_slash_redirecting</th>\n",
       "      <th>Prefix_Suffix</th>\n",
       "      <th>having_Sub_Domain</th>\n",
       "      <th>SSLfinal_State</th>\n",
       "      <th>Domain_registeration_length</th>\n",
       "      <th>Favicon</th>\n",
       "      <th>port</th>\n",
       "      <th>HTTPS_token</th>\n",
       "      <th>Request_URL</th>\n",
       "      <th>URL_of_Anchor</th>\n",
       "      <th>Links_in_tags</th>\n",
       "      <th>SFH</th>\n",
       "      <th>Submitting_to_email</th>\n",
       "      <th>Abnormal_URL</th>\n",
       "      <th>Redirect</th>\n",
       "      <th>on_mouseover</th>\n",
       "      <th>RightClick</th>\n",
       "      <th>popUpWidnow</th>\n",
       "      <th>Iframe</th>\n",
       "      <th>age_of_domain</th>\n",
       "      <th>DNSRecord</th>\n",
       "      <th>web_traffic</th>\n",
       "      <th>Page_Rank</th>\n",
       "      <th>Google_Index</th>\n",
       "      <th>Links_pointing_to_page</th>\n",
       "      <th>Statistical_report</th>\n",
       "      <th>Result</th>\n",
       "      <th>Result2</th>\n",
       "    </tr>\n",
       "  </thead>\n",
       "  <tbody>\n",
       "    <tr>\n",
       "      <th>19</th>\n",
       "      <td>21357</td>\n",
       "      <td>1</td>\n",
       "      <td>-1</td>\n",
       "      <td>1</td>\n",
       "      <td>1</td>\n",
       "      <td>1</td>\n",
       "      <td>-1</td>\n",
       "      <td>-1</td>\n",
       "      <td>-1</td>\n",
       "      <td>-1</td>\n",
       "      <td>1</td>\n",
       "      <td>1</td>\n",
       "      <td>1</td>\n",
       "      <td>-1</td>\n",
       "      <td>-1</td>\n",
       "      <td>0</td>\n",
       "      <td>-1</td>\n",
       "      <td>1</td>\n",
       "      <td>1</td>\n",
       "      <td>0</td>\n",
       "      <td>1</td>\n",
       "      <td>1</td>\n",
       "      <td>1</td>\n",
       "      <td>1</td>\n",
       "      <td>-1</td>\n",
       "      <td>-1</td>\n",
       "      <td>-1</td>\n",
       "      <td>-1</td>\n",
       "      <td>1</td>\n",
       "      <td>0</td>\n",
       "      <td>1</td>\n",
       "      <td>-1</td>\n",
       "      <td>-99</td>\n",
       "    </tr>\n",
       "    <tr>\n",
       "      <th>54</th>\n",
       "      <td>21392</td>\n",
       "      <td>1</td>\n",
       "      <td>-1</td>\n",
       "      <td>1</td>\n",
       "      <td>1</td>\n",
       "      <td>1</td>\n",
       "      <td>-1</td>\n",
       "      <td>1</td>\n",
       "      <td>-1</td>\n",
       "      <td>1</td>\n",
       "      <td>-1</td>\n",
       "      <td>-1</td>\n",
       "      <td>1</td>\n",
       "      <td>-1</td>\n",
       "      <td>0</td>\n",
       "      <td>-1</td>\n",
       "      <td>-1</td>\n",
       "      <td>-1</td>\n",
       "      <td>1</td>\n",
       "      <td>0</td>\n",
       "      <td>-1</td>\n",
       "      <td>1</td>\n",
       "      <td>-1</td>\n",
       "      <td>-1</td>\n",
       "      <td>1</td>\n",
       "      <td>-1</td>\n",
       "      <td>1</td>\n",
       "      <td>-1</td>\n",
       "      <td>1</td>\n",
       "      <td>1</td>\n",
       "      <td>-1</td>\n",
       "      <td>-1</td>\n",
       "      <td>-99</td>\n",
       "    </tr>\n",
       "    <tr>\n",
       "      <th>79</th>\n",
       "      <td>21417</td>\n",
       "      <td>1</td>\n",
       "      <td>-1</td>\n",
       "      <td>1</td>\n",
       "      <td>1</td>\n",
       "      <td>1</td>\n",
       "      <td>-1</td>\n",
       "      <td>1</td>\n",
       "      <td>-1</td>\n",
       "      <td>1</td>\n",
       "      <td>1</td>\n",
       "      <td>1</td>\n",
       "      <td>1</td>\n",
       "      <td>-1</td>\n",
       "      <td>-1</td>\n",
       "      <td>-1</td>\n",
       "      <td>-1</td>\n",
       "      <td>1</td>\n",
       "      <td>1</td>\n",
       "      <td>0</td>\n",
       "      <td>1</td>\n",
       "      <td>1</td>\n",
       "      <td>1</td>\n",
       "      <td>1</td>\n",
       "      <td>1</td>\n",
       "      <td>1</td>\n",
       "      <td>-1</td>\n",
       "      <td>-1</td>\n",
       "      <td>-1</td>\n",
       "      <td>0</td>\n",
       "      <td>1</td>\n",
       "      <td>-1</td>\n",
       "      <td>-99</td>\n",
       "    </tr>\n",
       "    <tr>\n",
       "      <th>97</th>\n",
       "      <td>21435</td>\n",
       "      <td>1</td>\n",
       "      <td>-1</td>\n",
       "      <td>1</td>\n",
       "      <td>1</td>\n",
       "      <td>1</td>\n",
       "      <td>-1</td>\n",
       "      <td>-1</td>\n",
       "      <td>1</td>\n",
       "      <td>-1</td>\n",
       "      <td>-1</td>\n",
       "      <td>-1</td>\n",
       "      <td>1</td>\n",
       "      <td>-1</td>\n",
       "      <td>0</td>\n",
       "      <td>1</td>\n",
       "      <td>-1</td>\n",
       "      <td>-1</td>\n",
       "      <td>1</td>\n",
       "      <td>0</td>\n",
       "      <td>-1</td>\n",
       "      <td>1</td>\n",
       "      <td>-1</td>\n",
       "      <td>-1</td>\n",
       "      <td>-1</td>\n",
       "      <td>-1</td>\n",
       "      <td>0</td>\n",
       "      <td>-1</td>\n",
       "      <td>1</td>\n",
       "      <td>0</td>\n",
       "      <td>-1</td>\n",
       "      <td>-1</td>\n",
       "      <td>-99</td>\n",
       "    </tr>\n",
       "    <tr>\n",
       "      <th>106</th>\n",
       "      <td>21444</td>\n",
       "      <td>1</td>\n",
       "      <td>-1</td>\n",
       "      <td>1</td>\n",
       "      <td>1</td>\n",
       "      <td>1</td>\n",
       "      <td>-1</td>\n",
       "      <td>0</td>\n",
       "      <td>0</td>\n",
       "      <td>-1</td>\n",
       "      <td>1</td>\n",
       "      <td>1</td>\n",
       "      <td>1</td>\n",
       "      <td>-1</td>\n",
       "      <td>-1</td>\n",
       "      <td>0</td>\n",
       "      <td>-1</td>\n",
       "      <td>1</td>\n",
       "      <td>1</td>\n",
       "      <td>0</td>\n",
       "      <td>1</td>\n",
       "      <td>1</td>\n",
       "      <td>1</td>\n",
       "      <td>1</td>\n",
       "      <td>1</td>\n",
       "      <td>-1</td>\n",
       "      <td>-1</td>\n",
       "      <td>-1</td>\n",
       "      <td>-1</td>\n",
       "      <td>0</td>\n",
       "      <td>1</td>\n",
       "      <td>-1</td>\n",
       "      <td>-99</td>\n",
       "    </tr>\n",
       "  </tbody>\n",
       "</table>\n",
       "</div>"
      ],
      "text/plain": [
       "       key  having_IP  URL_Length  Shortining_Service  having_At_Symbol  \\\n",
       "19   21357          1          -1                   1                 1   \n",
       "54   21392          1          -1                   1                 1   \n",
       "79   21417          1          -1                   1                 1   \n",
       "97   21435          1          -1                   1                 1   \n",
       "106  21444          1          -1                   1                 1   \n",
       "\n",
       "     double_slash_redirecting  Prefix_Suffix  having_Sub_Domain  \\\n",
       "19                          1             -1                 -1   \n",
       "54                          1             -1                  1   \n",
       "79                          1             -1                  1   \n",
       "97                          1             -1                 -1   \n",
       "106                         1             -1                  0   \n",
       "\n",
       "     SSLfinal_State  Domain_registeration_length  Favicon  port  HTTPS_token  \\\n",
       "19               -1                           -1        1     1            1   \n",
       "54               -1                            1       -1    -1            1   \n",
       "79               -1                            1        1     1            1   \n",
       "97                1                           -1       -1    -1            1   \n",
       "106               0                           -1        1     1            1   \n",
       "\n",
       "     Request_URL  URL_of_Anchor  Links_in_tags  SFH  Submitting_to_email  \\\n",
       "19            -1             -1              0   -1                    1   \n",
       "54            -1              0             -1   -1                   -1   \n",
       "79            -1             -1             -1   -1                    1   \n",
       "97            -1              0              1   -1                   -1   \n",
       "106           -1             -1              0   -1                    1   \n",
       "\n",
       "     Abnormal_URL  Redirect  on_mouseover  RightClick  popUpWidnow  Iframe  \\\n",
       "19              1         0             1           1            1       1   \n",
       "54              1         0            -1           1           -1      -1   \n",
       "79              1         0             1           1            1       1   \n",
       "97              1         0            -1           1           -1      -1   \n",
       "106             1         0             1           1            1       1   \n",
       "\n",
       "     age_of_domain  DNSRecord  web_traffic  Page_Rank  Google_Index  \\\n",
       "19              -1         -1           -1         -1             1   \n",
       "54               1         -1            1         -1             1   \n",
       "79               1          1           -1         -1            -1   \n",
       "97              -1         -1            0         -1             1   \n",
       "106              1         -1           -1         -1            -1   \n",
       "\n",
       "     Links_pointing_to_page  Statistical_report  Result  Result2  \n",
       "19                        0                   1      -1      -99  \n",
       "54                        1                  -1      -1      -99  \n",
       "79                        0                   1      -1      -99  \n",
       "97                        0                  -1      -1      -99  \n",
       "106                       0                   1      -1      -99  "
      ]
     },
     "execution_count": 110,
     "metadata": {},
     "output_type": "execute_result"
    }
   ],
   "source": [
    "u99t.head()"
   ]
  },
  {
   "cell_type": "code",
   "execution_count": 120,
   "metadata": {},
   "outputs": [
    {
     "data": {
      "text/plain": [
       "(613,)"
      ]
     },
     "execution_count": 120,
     "metadata": {},
     "output_type": "execute_result"
    }
   ],
   "source": [
    "u99t.loc[((testdf[\"SSLfinal_State\"] == -1) \n",
    "          | (u99t[\"URL_of_Anchor\"] == -1)\n",
    "          | (u99t[\"web_traffic\"] == -1)\n",
    "          | (u99t[\"Links_in_tags\"] == -1)\n",
    "          | (u99t[\"Prefix_Suffix\"] == -1)), \"Result\"].shape"
   ]
  },
  {
   "cell_type": "code",
   "execution_count": 119,
   "metadata": {},
   "outputs": [
    {
     "data": {
      "text/plain": [
       "(40,)"
      ]
     },
     "execution_count": 119,
     "metadata": {},
     "output_type": "execute_result"
    }
   ],
   "source": [
    "u99t.loc[((testdf[\"SSLfinal_State\"] != -1) \n",
    "          & (u99t[\"URL_of_Anchor\"] != -1)\n",
    "          & (u99t[\"web_traffic\"] != -1)\n",
    "          & (u99t[\"Links_in_tags\"] != -1)\n",
    "          & (u99t[\"Prefix_Suffix\"] != -1)), \"Result\"].shape"
   ]
  },
  {
   "cell_type": "code",
   "execution_count": 126,
   "metadata": {},
   "outputs": [
    {
     "data": {
      "text/plain": [
       "(294, 33)"
      ]
     },
     "execution_count": 126,
     "metadata": {},
     "output_type": "execute_result"
    }
   ],
   "source": [
    "u99t[u99t.Result == 1].shape"
   ]
  },
  {
   "cell_type": "code",
   "execution_count": null,
   "metadata": {},
   "outputs": [],
   "source": []
  }
 ],
 "metadata": {
  "colab": {
   "authorship_tag": "ABX9TyPcrz3chSS9WyuVZj0vsGH0",
   "name": "manual value analysis",
   "private_outputs": true,
   "provenance": []
  },
  "kernelspec": {
   "display_name": "Python 3 (ipykernel)",
   "language": "python",
   "name": "python3"
  },
  "language_info": {
   "codemirror_mode": {
    "name": "ipython",
    "version": 3
   },
   "file_extension": ".py",
   "mimetype": "text/x-python",
   "name": "python",
   "nbconvert_exporter": "python",
   "pygments_lexer": "ipython3",
   "version": "3.9.7"
  }
 },
 "nbformat": 4,
 "nbformat_minor": 4
}
